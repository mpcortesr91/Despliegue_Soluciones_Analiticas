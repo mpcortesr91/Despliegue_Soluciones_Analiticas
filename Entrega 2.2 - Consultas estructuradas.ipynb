{
 "cells": [
  {
   "cell_type": "markdown",
   "id": "ce2a3653",
   "metadata": {},
   "source": [
    "# Importante\n",
    "### Para la ejecución del presente notebook, es necesario descomprimir la carpeta .zip que se entrega junto al presente documento"
   ]
  },
  {
   "cell_type": "markdown",
   "id": "acbc1039",
   "metadata": {},
   "source": [
    "---"
   ]
  },
  {
   "cell_type": "markdown",
   "id": "d4c18f24",
   "metadata": {},
   "source": [
    "# Entrega 2.2 - Consultas estructuradas"
   ]
  },
  {
   "cell_type": "markdown",
   "id": "26b1945e",
   "metadata": {},
   "source": [
    "## Importar librerias"
   ]
  },
  {
   "cell_type": "code",
   "execution_count": 1,
   "id": "8f6a80d7",
   "metadata": {},
   "outputs": [],
   "source": [
    "from glob import glob\n",
    "import pandas as pd\n",
    "\n",
    "import sqlalchemy\n",
    "from sqlalchemy import create_engine\n",
    "from sqlalchemy import MetaData, Table, Column, Text\n",
    "from sqlalchemy.types import Integer, Text, String, DateTime\n",
    "from sqlalchemy.orm import Session"
   ]
  },
  {
   "cell_type": "markdown",
   "id": "8e33aa71",
   "metadata": {},
   "source": [
    "## Crear máquina para las consultas SQL"
   ]
  },
  {
   "cell_type": "code",
   "execution_count": 2,
   "id": "d23ef997",
   "metadata": {},
   "outputs": [],
   "source": [
    "engine = create_engine('sqlite://')\n",
    "meta = MetaData()\n",
    "meta.bind = engine"
   ]
  },
  {
   "cell_type": "markdown",
   "id": "68027edf",
   "metadata": {},
   "source": [
    "## Cargar datasets"
   ]
  },
  {
   "cell_type": "code",
   "execution_count": 3,
   "id": "9220a55d",
   "metadata": {},
   "outputs": [
    {
     "name": "stderr",
     "output_type": "stream",
     "text": [
      "C:\\Users\\mpcor\\AppData\\Local\\Temp\\ipykernel_7464\\2360169389.py:9: DtypeWarning: Columns (7,17,27,29,31,33,37,39,45,47,49,51,53,55,57,59,61,63,65,67) have mixed types. Specify dtype option on import or set low_memory=False.\n",
      "  df_clima = pd.read_csv(clima[0])\n",
      "C:\\Users\\mpcor\\AppData\\Local\\Temp\\ipykernel_7464\\2360169389.py:11: DtypeWarning: Columns (7,11,15,17,27,29,31,33,35,37,39,45,47,49,51,53,55,57,59,61,63,65) have mixed types. Specify dtype option on import or set low_memory=False.\n",
      "  df_clima = pd.concat([df_clima, pd.read_csv(g)])\n",
      "C:\\Users\\mpcor\\AppData\\Local\\Temp\\ipykernel_7464\\2360169389.py:11: DtypeWarning: Columns (13,17,23,29,31,53,55,59,61) have mixed types. Specify dtype option on import or set low_memory=False.\n",
      "  df_clima = pd.concat([df_clima, pd.read_csv(g)])\n"
     ]
    }
   ],
   "source": [
    "files = sorted(glob('end/part*'))\n",
    "\n",
    "df_viajes = pd.read_parquet(files[0])\n",
    "for f in files[1:]:\n",
    "    df = pd.concat([df_viajes, pd.read_parquet(f)])\n",
    "    \n",
    "clima = sorted(glob('clima/*'))\n",
    "\n",
    "df_clima = pd.read_csv(clima[0])\n",
    "for g in clima[1:]:\n",
    "    df_clima = pd.concat([df_clima, pd.read_csv(g)])"
   ]
  },
  {
   "cell_type": "markdown",
   "id": "326514cb",
   "metadata": {},
   "source": [
    "## Crear tablas para consultas SQL"
   ]
  },
  {
   "cell_type": "code",
   "execution_count": 6,
   "id": "69f62aae",
   "metadata": {},
   "outputs": [
    {
     "data": {
      "text/plain": [
       "229327"
      ]
     },
     "execution_count": 6,
     "metadata": {},
     "output_type": "execute_result"
    }
   ],
   "source": [
    "df_viajes.to_sql('viajes', engine, if_exists='replace')\n",
    "df_clima.to_sql('clima', engine, if_exists='replace')"
   ]
  },
  {
   "cell_type": "markdown",
   "id": "a41e4689",
   "metadata": {},
   "source": [
    "## Escribir codigo y sentencias para obtener las respuestas"
   ]
  },
  {
   "cell_type": "markdown",
   "id": "1d2b54f3",
   "metadata": {},
   "source": [
    "**¿En qué semana, mes y en qué año fue el momento más caluroso? ¿Dónde?**\n",
    "\n",
    "<i>Durante la semana del 25 al 31 de julio de 2020, fue el momento más caluroso con temperatura promedio de 32.21 en NY"
   ]
  },
  {
   "cell_type": "code",
   "execution_count": 7,
   "id": "c801ace9",
   "metadata": {},
   "outputs": [
    {
     "data": {
      "text/html": [
       "<div>\n",
       "<style scoped>\n",
       "    .dataframe tbody tr th:only-of-type {\n",
       "        vertical-align: middle;\n",
       "    }\n",
       "\n",
       "    .dataframe tbody tr th {\n",
       "        vertical-align: top;\n",
       "    }\n",
       "\n",
       "    .dataframe thead th {\n",
       "        text-align: right;\n",
       "    }\n",
       "</style>\n",
       "<table border=\"1\" class=\"dataframe\">\n",
       "  <thead>\n",
       "    <tr style=\"text-align: right;\">\n",
       "      <th></th>\n",
       "      <th>T_PROMEDIO_SEMANA</th>\n",
       "      <th>SEMANA</th>\n",
       "      <th>MES</th>\n",
       "      <th>AÑO</th>\n",
       "      <th>LUGAR</th>\n",
       "    </tr>\n",
       "  </thead>\n",
       "  <tbody>\n",
       "    <tr>\n",
       "      <th>0</th>\n",
       "      <td>32.214286</td>\n",
       "      <td>2020-07-25 a 2020-07-31</td>\n",
       "      <td>07</td>\n",
       "      <td>2020</td>\n",
       "      <td>NY CITY CENTRAL PARK, NY US</td>\n",
       "    </tr>\n",
       "  </tbody>\n",
       "</table>\n",
       "</div>"
      ],
      "text/plain": [
       "   T_PROMEDIO_SEMANA                   SEMANA MES   AÑO  \\\n",
       "0          32.214286  2020-07-25 a 2020-07-31  07  2020   \n",
       "\n",
       "                         LUGAR  \n",
       "0  NY CITY CENTRAL PARK, NY US  "
      ]
     },
     "execution_count": 7,
     "metadata": {},
     "output_type": "execute_result"
    }
   ],
   "source": [
    "query = \"\"\"\n",
    "WITH CTE AS(\n",
    "SELECT AVG(TMAX) T_PROMEDIO_SEMANA, SEMANA, NAME, STATION FROM(\n",
    "SELECT DISTINCT B.STATION, NAME, B.DATE, DATE(B.DATE,'weekday 5') SEMANA, B.TMAX FROM viajes A\n",
    "INNER JOIN clima B ON A.END_WEATHER_STATION_JOIN=B.STATION AND A.end_date=B.DATE\n",
    "WHERE TMAX<>'NaN')A\n",
    "GROUP BY SEMANA, NAME\n",
    "order by T_PROMEDIO_SEMANA DESC, SEMANA LIMIT 1)\n",
    "\n",
    "SELECT T_PROMEDIO_SEMANA, DATE(SEMANA,'-6 days') || ' a ' || SEMANA SEMANA, STRFTIME('%m', SEMANA) MES, STRFTIME('%Y', SEMANA) AÑO, NAME LUGAR FROM CTE\n",
    "\"\"\"\n",
    "pd.read_sql(query, con=engine)"
   ]
  },
  {
   "cell_type": "markdown",
   "id": "680ab62f",
   "metadata": {},
   "source": [
    "**¿Cuántas bicicletas fueron alquiladas esa semana más calurosa?**\n",
    "\n",
    "<i>Durante esa semana, se alquilaron 872 bicicletas"
   ]
  },
  {
   "cell_type": "code",
   "execution_count": 8,
   "id": "03e4aec1",
   "metadata": {},
   "outputs": [
    {
     "data": {
      "text/html": [
       "<div>\n",
       "<style scoped>\n",
       "    .dataframe tbody tr th:only-of-type {\n",
       "        vertical-align: middle;\n",
       "    }\n",
       "\n",
       "    .dataframe tbody tr th {\n",
       "        vertical-align: top;\n",
       "    }\n",
       "\n",
       "    .dataframe thead th {\n",
       "        text-align: right;\n",
       "    }\n",
       "</style>\n",
       "<table border=\"1\" class=\"dataframe\">\n",
       "  <thead>\n",
       "    <tr style=\"text-align: right;\">\n",
       "      <th></th>\n",
       "      <th>Bicicletas alquiladas</th>\n",
       "    </tr>\n",
       "  </thead>\n",
       "  <tbody>\n",
       "    <tr>\n",
       "      <th>0</th>\n",
       "      <td>872</td>\n",
       "    </tr>\n",
       "  </tbody>\n",
       "</table>\n",
       "</div>"
      ],
      "text/plain": [
       "   Bicicletas alquiladas\n",
       "0                    872"
      ]
     },
     "execution_count": 8,
     "metadata": {},
     "output_type": "execute_result"
    }
   ],
   "source": [
    "query = \"\"\"\n",
    "WITH CTE AS(\n",
    "SELECT AVG(TMAX) T_PROMEDIO_SEMANA, SEMANA, NAME, STATION FROM(\n",
    "SELECT DISTINCT B.STATION, NAME, B.DATE, DATE(B.DATE,'weekday 5') SEMANA, B.TMAX FROM viajes A\n",
    "INNER JOIN clima B ON A.END_WEATHER_STATION_JOIN=B.STATION AND A.end_date=B.DATE\n",
    "WHERE TMAX<>'NaN')A\n",
    "GROUP BY SEMANA, NAME\n",
    "order by T_PROMEDIO_SEMANA DESC, SEMANA LIMIT 1)\n",
    "\n",
    "SELECT COUNT(*) [Bicicletas alquiladas] FROM(\n",
    "SELECT DISTINCT(bikeid) FROM CTE A INNER JOIN VIAJES B ON A.STATION=B.END_WEATHER_STATION_JOIN\n",
    "WHERE B.END_DATE>=DATE(SEMANA,'-6 days') AND B.END_DATE<=SEMANA)A\n",
    "\"\"\"\n",
    "pd.read_sql(query, con=engine)"
   ]
  },
  {
   "cell_type": "markdown",
   "id": "2769983f",
   "metadata": {},
   "source": [
    "**¿En qué semana, mes y en qué año fue el momento más frío?**\n",
    "\n",
    "<i>Durante la semana del 20 de diciembre de 2017 al 5 de enero de 2018, fue el momento más frío con temperatura promedio de -10.54 en NY"
   ]
  },
  {
   "cell_type": "code",
   "execution_count": 9,
   "id": "0baec7a0",
   "metadata": {},
   "outputs": [
    {
     "data": {
      "text/html": [
       "<div>\n",
       "<style scoped>\n",
       "    .dataframe tbody tr th:only-of-type {\n",
       "        vertical-align: middle;\n",
       "    }\n",
       "\n",
       "    .dataframe tbody tr th {\n",
       "        vertical-align: top;\n",
       "    }\n",
       "\n",
       "    .dataframe thead th {\n",
       "        text-align: right;\n",
       "    }\n",
       "</style>\n",
       "<table border=\"1\" class=\"dataframe\">\n",
       "  <thead>\n",
       "    <tr style=\"text-align: right;\">\n",
       "      <th></th>\n",
       "      <th>T_PROMEDIO_SEMANA</th>\n",
       "      <th>SEMANA</th>\n",
       "      <th>MES</th>\n",
       "      <th>AÑO</th>\n",
       "      <th>LUGAR</th>\n",
       "    </tr>\n",
       "  </thead>\n",
       "  <tbody>\n",
       "    <tr>\n",
       "      <th>0</th>\n",
       "      <td>-10.542857</td>\n",
       "      <td>2017-12-30 a 2018-01-05</td>\n",
       "      <td>01</td>\n",
       "      <td>2018</td>\n",
       "      <td>NY CITY CENTRAL PARK, NY US</td>\n",
       "    </tr>\n",
       "  </tbody>\n",
       "</table>\n",
       "</div>"
      ],
      "text/plain": [
       "   T_PROMEDIO_SEMANA                   SEMANA MES   AÑO  \\\n",
       "0         -10.542857  2017-12-30 a 2018-01-05  01  2018   \n",
       "\n",
       "                         LUGAR  \n",
       "0  NY CITY CENTRAL PARK, NY US  "
      ]
     },
     "execution_count": 9,
     "metadata": {},
     "output_type": "execute_result"
    }
   ],
   "source": [
    "query = \"\"\"\n",
    "WITH CTE AS(\n",
    "SELECT AVG(TMIN) T_PROMEDIO_SEMANA, SEMANA, NAME, STATION FROM(\n",
    "SELECT DISTINCT B.STATION, NAME, B.DATE, DATE(B.DATE,'weekday 5') SEMANA, B.TMIN FROM viajes A\n",
    "INNER JOIN clima B ON A.END_WEATHER_STATION_JOIN=B.STATION AND A.end_date=B.DATE\n",
    "WHERE TMIN<>'NaN')A\n",
    "GROUP BY SEMANA, NAME\n",
    "order by T_PROMEDIO_SEMANA, SEMANA LIMIT 1)\n",
    "\n",
    "SELECT T_PROMEDIO_SEMANA, DATE(SEMANA,'-6 days') || ' a ' || SEMANA SEMANA, STRFTIME('%m', SEMANA) MES, STRFTIME('%Y', SEMANA) AÑO, NAME LUGAR FROM CTE\n",
    "\"\"\"\n",
    "pd.read_sql(query, con=engine)"
   ]
  },
  {
   "cell_type": "markdown",
   "id": "6a4687f5",
   "metadata": {},
   "source": [
    "**¿Cuántas bicicletas fueron alquiladas esa semana?**\n",
    "\n",
    "<i>Durante esa semana, se alquilaron 127 bicicletas"
   ]
  },
  {
   "cell_type": "code",
   "execution_count": 10,
   "id": "8ce3a0ab",
   "metadata": {},
   "outputs": [
    {
     "data": {
      "text/html": [
       "<div>\n",
       "<style scoped>\n",
       "    .dataframe tbody tr th:only-of-type {\n",
       "        vertical-align: middle;\n",
       "    }\n",
       "\n",
       "    .dataframe tbody tr th {\n",
       "        vertical-align: top;\n",
       "    }\n",
       "\n",
       "    .dataframe thead th {\n",
       "        text-align: right;\n",
       "    }\n",
       "</style>\n",
       "<table border=\"1\" class=\"dataframe\">\n",
       "  <thead>\n",
       "    <tr style=\"text-align: right;\">\n",
       "      <th></th>\n",
       "      <th>Bicicletas alquiladas</th>\n",
       "    </tr>\n",
       "  </thead>\n",
       "  <tbody>\n",
       "    <tr>\n",
       "      <th>0</th>\n",
       "      <td>127</td>\n",
       "    </tr>\n",
       "  </tbody>\n",
       "</table>\n",
       "</div>"
      ],
      "text/plain": [
       "   Bicicletas alquiladas\n",
       "0                    127"
      ]
     },
     "execution_count": 10,
     "metadata": {},
     "output_type": "execute_result"
    }
   ],
   "source": [
    "query = \"\"\"\n",
    "WITH CTE AS(\n",
    "SELECT AVG(TMIN) T_PROMEDIO_SEMANA, SEMANA, NAME, STATION FROM(\n",
    "SELECT DISTINCT B.STATION, NAME, B.DATE, DATE(B.DATE,'weekday 5') SEMANA, B.TMIN FROM viajes A\n",
    "INNER JOIN clima B ON A.END_WEATHER_STATION_JOIN=B.STATION AND A.end_date=B.DATE\n",
    "WHERE TMIN<>'NaN')A\n",
    "GROUP BY SEMANA, NAME\n",
    "order by T_PROMEDIO_SEMANA, SEMANA LIMIT 1)\n",
    "\n",
    "SELECT COUNT(*) [Bicicletas alquiladas] FROM(\n",
    "SELECT DISTINCT(bikeid) FROM CTE A INNER JOIN VIAJES B ON A.STATION=B.END_WEATHER_STATION_JOIN\n",
    "WHERE B.END_DATE>=DATE(SEMANA,'-6 days') AND B.END_DATE<=SEMANA)A\n",
    "\"\"\"\n",
    "pd.read_sql(query, con=engine)"
   ]
  },
  {
   "cell_type": "markdown",
   "id": "25e36bb0",
   "metadata": {},
   "source": [
    "## Preguntas de respuesta abierta (corta)\n",
    "\n",
    "* ¿Cree usted que la diferencia entre bicicletas alquiladas tiene relación con el clima? "
   ]
  },
  {
   "cell_type": "markdown",
   "id": "e35258a0",
   "metadata": {},
   "source": [
    "<i>Considerando que ambos puntos de información comprenden temperaturas promedio tan extremas, es lógico pensar que el alquiler de bicicletas está relacionado con el clima.<br>En una misma ciudad, como NY, los climas durante verano y durante invierno pueden alcanzar niveles máximos y mínimos por lo que las personas tendrán mayor o menor disposición a alquilar bicicletas, sin contar con las condiciones de las vías disponibles para transitar en bicicleta en ambos momentos del año"
   ]
  },
  {
   "cell_type": "markdown",
   "id": "4391ea95",
   "metadata": {},
   "source": [
    "* ¿Tiene sentido obtener una conclusión basados solo en un par de puntos de información?"
   ]
  },
  {
   "cell_type": "markdown",
   "id": "c0bc5358",
   "metadata": {},
   "source": [
    "<i>Con 2 puntos de información la conclusión puede ser incompleta o sesgada. A menos que el análisis se haga para la misma ciudad y con promedios sobre la misma semana y a lo largo de los años, sería posible sacar una conclusión a cerca del comportamiento de los alquileres de bicicleta con respecto al clima"
   ]
  }
 ],
 "metadata": {
  "kernelspec": {
   "display_name": "Python 3 (ipykernel)",
   "language": "python",
   "name": "python3"
  },
  "language_info": {
   "codemirror_mode": {
    "name": "ipython",
    "version": 3
   },
   "file_extension": ".py",
   "mimetype": "text/x-python",
   "name": "python",
   "nbconvert_exporter": "python",
   "pygments_lexer": "ipython3",
   "version": "3.9.12"
  }
 },
 "nbformat": 4,
 "nbformat_minor": 5
}
